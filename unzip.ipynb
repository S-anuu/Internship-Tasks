{
 "cells": [
  {
   "cell_type": "code",
   "execution_count": null,
   "id": "aa007a34",
   "metadata": {
    "vscode": {
     "languageId": "plaintext"
    }
   },
   "outputs": [],
   "source": [
    "import zipfile\n",
    "import os\n",
    "import shutil\n",
    "\n",
    "def unzip_file(zip_file_path, dir_path):\n",
    "    \"\"\"\n",
    "    Unzips a file to a folder named after the zip file inside the specified directory.\n",
    "    \n",
    "    :param zip_file_path: Path to the zip file\n",
    "    :param dir_path: Directory where the extracted folder should be created\n",
    "    \"\"\"\n",
    "    if not zip_file_path.lower().endswith('.zip'):\n",
    "        raise ValueError(\"Provided file is not a zip archive\")\n",
    "    \n",
    "    zip_filename = os.path.splitext(os.path.basename(zip_file_path))[0]\n",
    "    extract_dir = os.path.join(dir_path, zip_filename)\n",
    "    \n",
    "    os.makedirs(extract_dir, exist_ok=True)\n",
    "    \n",
    "    with zipfile.ZipFile(zip_file_path, 'r') as zip_ref:\n",
    "        zip_ref.extractall(extract_dir)\n",
    "    \n",
    "    print(f\"Extracted to: {extract_dir}\")"
   ]
  },
  {
   "cell_type": "code",
   "execution_count": null,
   "id": "d75c3593",
   "metadata": {
    "vscode": {
     "languageId": "plaintext"
    }
   },
   "outputs": [],
   "source": [
    "zip_file_path = \"/home/interns/ankita/set_1_sorted.zip\"\n",
    "dir_path = \"./ankles\"\n",
    "unzip_file(zip_file_path, dir_path)"
   ]
  },
  {
   "cell_type": "code",
   "execution_count": null,
   "id": "3b3647b3",
   "metadata": {
    "vscode": {
     "languageId": "plaintext"
    }
   },
   "outputs": [],
   "source": [
    "copy_root = \"/home/plai/Dataset/trainable_bilateral\"\n",
    "root = \"/home/interns/ankles/set_1_sorted/sorted_old\"\n",
    "for dirs in os.listdir(root):\n",
    "    if \".DS_Store\" in dirs:\n",
    "        continue\n",
    "    dir_path = os.path.join(root, dirs)\n",
    "    copy_pat = os.path.join(copy_root, dirs)\n",
    "    for subdirs in os.listdir(dir_path):\n",
    "        if \".DS_Store\" in subdirs:\n",
    "            continue\n",
    "        subdir_path = os.path.join(dir_path, subdirs)\n",
    "        copy_sub_dir = os.path.join(copy_pat, subdirs)\n",
    "        os.makedirs(copy_sub_dir, exist_ok=True)\n",
    "        for files in os.listdir(subdir_path):\n",
    "            if \".DS_Store\" in files:\n",
    "                continue\n",
    "            file_path = os.path.join(subdir_path, files)\n",
    "            shutil.copy(file_path, copy_sub_dir)\n",
    "            print(f\"copied {file_path} to {copy_sub_dir}\")\n",
    "        # break\n",
    "    # break"
   ]
  }
 ],
 "metadata": {
  "language_info": {
   "name": "python"
  }
 },
 "nbformat": 4,
 "nbformat_minor": 5
}
